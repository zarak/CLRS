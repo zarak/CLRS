{
 "cells": [
  {
   "cell_type": "markdown",
   "metadata": {},
   "source": [
    "# 2.1 Insertion Sort"
   ]
  },
  {
   "cell_type": "markdown",
   "metadata": {},
   "source": [
    "The **sorting problem**:  \n",
    "**Input**: A sequence of $n$ numbers $\\langle a_1, a_2, \\cdots, a_n\\rangle$  \n",
    "**Output**: A permutation (reordering) $\\langle a_1', a_2', \\cdots, a_n'\\rangle$ of the input sequence such that $a_1' \\le a_2' \\le \\cdots \\le a_n'$.\n",
    "\n",
    "**Insertion sort** is an efficient algorithm for sorting a small number of elements. It works the way many people sort a hand of playing cards. The algorithm sorts the input numbers **in place**: it rearranges the numbers within the array $A$, with at most a constant number of them stored outside the array at any time.  "
   ]
  },
  {
   "cell_type": "code",
   "execution_count": 14,
   "metadata": {
    "collapsed": false
   },
   "outputs": [
    {
     "name": "stdout",
     "output_type": "stream",
     "text": [
      "Finding tests in NoName\n",
      "Trying:\n",
      "    A = [5, 2, 4, 6, 1, 3]\n",
      "Expecting nothing\n",
      "ok\n",
      "Trying:\n",
      "    B = [31, 41, 59, 26, 41, 58]\n",
      "Expecting nothing\n",
      "ok\n",
      "Trying:\n",
      "    insertion_sort(A) \n",
      "Expecting nothing\n",
      "ok\n",
      "Trying:\n",
      "    insertion_sort(B) \n",
      "Expecting nothing\n",
      "ok\n",
      "Trying:\n",
      "    print(A)\n",
      "Expecting:\n",
      "    [1, 2, 3, 4, 5, 6]\n",
      "ok\n",
      "Trying:\n",
      "    print(B)\n",
      "Expecting:\n",
      "    [26, 31, 41, 41, 58, 59]\n",
      "ok\n"
     ]
    }
   ],
   "source": [
    "# Zero based indexing used here unlike in textbook\n",
    "def insertion_sort(A):\n",
    "    \"\"\"Sort a list A of integers in non-decreasing order.\n",
    "    \n",
    "    >>> A = [5, 2, 4, 6, 1, 3]\n",
    "    >>> B = [31, 41, 59, 26, 41, 58]\n",
    "    >>> insertion_sort(A) \n",
    "    >>> insertion_sort(B) \n",
    "    >>> print(A)\n",
    "    [1, 2, 3, 4, 5, 6]\n",
    "    >>> print(B)\n",
    "    [26, 31, 41, 41, 58, 59]\n",
    "    \"\"\"\n",
    "    for j in range(1, len(A)):\n",
    "        key = A[j]\n",
    "        i = j - 1\n",
    "        while i >= 0 and A[i] > key:\n",
    "            A[i + 1] = A[i]\n",
    "            i -= 1\n",
    "        A[i + 1] = key\n",
    "        \n",
    "        \n",
    "if __name__ == \"__main__\":\n",
    "    import doctest\n",
    "    doctest.run_docstring_examples(insertion_sort, globals(), verbose=True)"
   ]
  },
  {
   "cell_type": "markdown",
   "metadata": {},
   "source": [
    "#### Loop invariants and the correctness of insertion sort\n",
    "<blockquote>At the start of each iteration of the `for` loop of lines 14-20, the subarray `A[0..j-1]` consists of the elements originally in `A[0..j-1]`, but in sorted order. </blockquote>\n",
    "\n",
    "We use loop invariants to help us understand why an algorithm is correct. We must show three things about a loop invariant:\n",
    "\n",
    "**Initialization**: It is true prior to the first iteration of the loop.  \n",
    "**Maintenance**: If it is true before an iteration of the loop, it remains true before the next iteration.  \n",
    "**Termination**: When the loop terminates, the invariant gives us a useful property that helps show that the algorithm is correct.  \n",
    "\n",
    "Let us see how these properties hold for insertion sort.  \n",
    "* **Initialization**: We start by showing that the loop invariant holds before the first loop iteration, when $j=1$. The subarray `A[0..j-1]`, therefore, consits of just the single element `A[0]`, which is in fact the original element in `A[0]`. Moreover, this subarray is trivially sorted, which shows that the loop invariant holds prior to the first iteration of the loop.  \n",
    "* **Maintenance**: Next, we tackle the second property: showing that each iteration maintains the loop invariant. Informally, the body of the `for` loop works by moving `A[j-1]`, `A[j-2]`, `A[j-3]`, and so on by one position to the right until it finds the proper position for `A[j]` (lines 16-19), at which point it inserts the value of `A[j]` (line 20). The subarray `A[0..j]` then consists of the elements originally in `A[0..j]`, but in sorted order. Incrementing $j$ for the next iteration of the `for` loop then preserves the loop invariant.  \n",
    "* **Termination**: Finally, we examine what happens when the loop terminates. The condition causing the `for` loop to terminate is that `j >= len(A) = n - 1`. Because each loop iteration increases $j$ by $1$, we must have $j=n$ at that time. Substituting $n$ for $j$ in the wording of loop invariant, we have that the subarray `A[0..n-1]` consists of the elements originally in `A[0..n-1]`, but in sorted order. Observing that the subarray `A[0..n-1]` is the entire array, we conclude that the entire array is sorted. Hence, the algorithm is correct.   "
   ]
  },
  {
   "cell_type": "markdown",
   "metadata": {},
   "source": [
    "## Exercises\n",
    "<hr>\n",
    "### 2.1-1\n",
    "\n",
    "The key is indicated in black and is inserted at the position of the red bar.\n",
    "\n",
    "<html>\n",
    "    <table>\n",
    "        <tr>\n",
    "        <td style=\"background-color: #D3D3D3\">31</td>\n",
    "        <td style=\"background-color: #000000; color: white\">41</td>\n",
    "        <td style=\"background-color: #D3D3D3\">59</td>\n",
    "        <td style=\"background-color: #D3D3D3\">26</td>\n",
    "        <td style=\"background-color: #D3D3D3\">41</td>\n",
    "        <td style=\"background-color: #D3D3D3\">58</td>\n",
    "        </tr>\n",
    "    </table>\n",
    "    <table>\n",
    "        <tr>\n",
    "        <td style=\"background-color: #D3D3D3\">31</td>\n",
    "        <td style=\"background-color: #D3D3D3\">41</td>\n",
    "        <td style=\"background-color: #000000; color: white\">59</td>\n",
    "        <td style=\"background-color: #D3D3D3\">26</td>\n",
    "        <td style=\"background-color: #D3D3D3\">41</td>\n",
    "        <td style=\"background-color: #D3D3D3\">58</td>\n",
    "        </tr>\n",
    "    </table>\n",
    "    <table>\n",
    "        <tr>\n",
    "        <td style=\"background-color: red\"></td>\n",
    "        <td style=\"background-color: #D3D3D3\">31</td>\n",
    "        <td style=\"background-color: #D3D3D3\">41</td>\n",
    "        <td style=\"background-color: #D3D3D3\">59</td>\n",
    "        <td style=\"background-color: #000000; color: white\">26</td>\n",
    "        <td style=\"background-color: #D3D3D3\">41</td>\n",
    "        <td style=\"background-color: #D3D3D3\">58</td>\n",
    "        </tr>\n",
    "    </table>\n",
    "    <table>\n",
    "        <tr>\n",
    "        <td style=\"background-color: #D3D3D3\">26</td>\n",
    "        <td style=\"background-color: #D3D3D3\">31</td>\n",
    "        <td style=\"background-color: #D3D3D3\">41</td>\n",
    "        <td style=\"background-color: red\"></td>\n",
    "        <td style=\"background-color: #D3D3D3\">59</td>\n",
    "        <td style=\"background-color: #000000; color: white\">41</td>\n",
    "        <td style=\"background-color: #D3D3D3\">58</td>\n",
    "        </tr>\n",
    "    </table>\n",
    "    <table>\n",
    "        <tr>\n",
    "        <td style=\"background-color: #D3D3D3\">26</td>\n",
    "        <td style=\"background-color: #D3D3D3\">31</td>\n",
    "        <td style=\"background-color: #D3D3D3\">41</td>\n",
    "        <td style=\"background-color: #D3D3D3\">41</td>\n",
    "        <td style=\"background-color: red\"></td>\n",
    "        <td style=\"background-color: #D3D3D3\">59</td>\n",
    "        <td style=\"background-color: #000000; color: white\">58</td>\n",
    "        </tr>\n",
    "    </table>\n",
    "    <table>\n",
    "        <tr>\n",
    "        <td style=\"background-color: #D3D3D3\">26</td>\n",
    "        <td style=\"background-color: #D3D3D3\">31</td>\n",
    "        <td style=\"background-color: #D3D3D3\">41</td>\n",
    "        <td style=\"background-color: #D3D3D3\">41</td>\n",
    "        <td style=\"background-color: #D3D3D3\">58</td>\n",
    "        <td style=\"background-color: #D3D3D3\">59</td>\n",
    "        </tr>\n",
    "    </table>\n",
    "</html>"
   ]
  },
  {
   "cell_type": "markdown",
   "metadata": {},
   "source": [
    "<hr>\n",
    "### 2.1-2"
   ]
  },
  {
   "cell_type": "code",
   "execution_count": 15,
   "metadata": {
    "collapsed": true
   },
   "outputs": [],
   "source": [
    "def insertion_sort(A):\n",
    "    \"\"\"Sort by non-increasing order.\n",
    "    \"\"\"\n",
    "    \n",
    "    for j in range(1, len(A)):\n",
    "        key = A[j]\n",
    "        i = j - 1\n",
    "        while i >= 0 and A[i] > key:\n",
    "            A[i + 1] = A[i]\n",
    "            i -= 1\n",
    "        A[i + 1] = key"
   ]
  },
  {
   "cell_type": "markdown",
   "metadata": {},
   "source": [
    "<hr>\n",
    "### 2.1-3\n",
    "Consider the **searching problem**:  \n",
    "**Input**: A sequence of $n$ numbers $A = \\langle a_1, a_2, \\cdots, a_n\\rangle$ and a value $v$.  \n",
    "**Output**: An index $i$ such that $v = A[i]$ or the special value `NIL` if $v$ does not appear in $A$.\n",
    "\n",
    "### Linear search"
   ]
  },
  {
   "cell_type": "code",
   "execution_count": 16,
   "metadata": {
    "collapsed": false
   },
   "outputs": [
    {
     "name": "stdout",
     "output_type": "stream",
     "text": [
      "Finding tests in NoName\n",
      "Trying:\n",
      "    print(linear_search([1,2,3,4,5,6], 7))\n",
      "Expecting:\n",
      "    None\n",
      "ok\n",
      "Trying:\n",
      "    print(linear_search([1,2,3,4,5,6], 6))\n",
      "Expecting:\n",
      "    5\n",
      "ok\n",
      "Trying:\n",
      "    print(linear_search([1,2,3,4,5,6], 1))\n",
      "Expecting:\n",
      "    0\n",
      "ok\n"
     ]
    }
   ],
   "source": [
    "def linear_search(A, v):\n",
    "    \"\"\"Search for int v in list A and return index i. Return None if item is not found.\n",
    "    \n",
    "    >>> print(linear_search([1,2,3,4,5,6], 7))\n",
    "    None\n",
    "    >>> print(linear_search([1,2,3,4,5,6], 6))\n",
    "    5\n",
    "    >>> print(linear_search([1,2,3,4,5,6], 1))\n",
    "    0\n",
    "    \"\"\"\n",
    "    for i, x in enumerate(A):\n",
    "        if x == v:\n",
    "            return i\n",
    "    return None\n",
    "\n",
    "if __name__ == \"__main__\":\n",
    "    import doctest\n",
    "    doctest.run_docstring_examples(linear_search, globals(), verbose=True)"
   ]
  },
  {
   "cell_type": "markdown",
   "metadata": {},
   "source": [
    "#### Correctness:\n",
    "**Post condition**: Return the index of $v$ if $v$ is in $A$, otherwise return None.  \n",
    "**Loop invariant**: $A[j] \\ne v$ for all $0 \\le j < i$.  \n",
    "\n",
    "**Initialization**: Upon initialization, we have $i=0$. Since $j$ must be less than $i$ and greater than or equal to $0$, we have an empty sub-array and so there is no item $v$ in it. Thus the invariant holds.  \n",
    "**Maintenance**: Prior to the iteration, we have $A[j] \\ne v$ for all $0 \\le j < i$. If $A[i] == v$, then the index is returned and the loop is terminated. Thus we must have $A[i] \\ne v$ and the invariant is maintained.  \n",
    "**Termination**: Suppose there are $n$ elements in the array $A$. If the loop terminates before $v$ is found, then $j=n$. This means that $v$ wasn't found in the first $n$ elements and hence the value None is returned. If $v$ was found then it would have been returned earlier."
   ]
  },
  {
   "cell_type": "markdown",
   "metadata": {},
   "source": [
    "<hr>\n",
    "### 2.1-4\n",
    "**Input**: Two $n$ element arrays, $A = \\langle a_1, a_2, \\cdots, a_n \\rangle$ and $B = \\langle b_1, b_2, \\cdots, b_n\\rangle$ such that $a_i \\in \\{0,1\\}$ and $b_i \\in \\{0,1\\}$ for all $i \\in \\mathbb{N}$.  \n",
    "**Output**: An $n + 1$ element array $C = \\langle c_1, c_2, \\cdots, c_{n + 1}\\rangle$ such that $c_i \\in \\{0,1\\}$ for all $i \\in \\mathbb{N}$."
   ]
  },
  {
   "cell_type": "code",
   "execution_count": 17,
   "metadata": {
    "collapsed": false
   },
   "outputs": [
    {
     "name": "stdout",
     "output_type": "stream",
     "text": [
      "Finding tests in NoName\n",
      "Trying:\n",
      "    A = [1,0,1,0,1]\n",
      "Expecting nothing\n",
      "ok\n",
      "Trying:\n",
      "    B = [1,0,1,0,1]\n",
      "Expecting nothing\n",
      "ok\n",
      "Trying:\n",
      "    print(binary_add(A, B))\n",
      "Expecting:\n",
      "    [1, 0, 1, 0, 1, 0]\n",
      "ok\n",
      "Trying:\n",
      "    A = [1,1,1,1,1]\n",
      "Expecting nothing\n",
      "ok\n",
      "Trying:\n",
      "    B = [1,1,1,1,1]\n",
      "Expecting nothing\n",
      "ok\n",
      "Trying:\n",
      "    print(binary_add(A, B))\n",
      "Expecting:\n",
      "    [1, 1, 1, 1, 1, 0]\n",
      "ok\n",
      "Trying:\n",
      "    A = [1,0,0,0,0]\n",
      "Expecting nothing\n",
      "ok\n",
      "Trying:\n",
      "    B = [1,0,0,0,0]\n",
      "Expecting nothing\n",
      "ok\n",
      "Trying:\n",
      "    print(binary_add(A, B))   \n",
      "Expecting:\n",
      "    [1, 0, 0, 0, 0, 0]\n",
      "ok\n",
      "Trying:\n",
      "    A = [1,1,0,1,0]\n",
      "Expecting nothing\n",
      "ok\n",
      "Trying:\n",
      "    B = [1,0,1,0,1]\n",
      "Expecting nothing\n",
      "ok\n",
      "Trying:\n",
      "    print(binary_add(A, B))   \n",
      "Expecting:\n",
      "    [1, 0, 1, 1, 1, 1]\n",
      "ok\n"
     ]
    }
   ],
   "source": [
    "def binary_add(A, B):\n",
    "    \"\"\"Binary addition of two numbers A and B, represented as arrays.\n",
    "    \n",
    "    >>> A = [1,0,1,0,1]\n",
    "    >>> B = [1,0,1,0,1]\n",
    "    >>> print(binary_add(A, B))\n",
    "    [1, 0, 1, 0, 1, 0]\n",
    "    >>> A = [1,1,1,1,1]\n",
    "    >>> B = [1,1,1,1,1]\n",
    "    >>> print(binary_add(A, B))\n",
    "    [1, 1, 1, 1, 1, 0]\n",
    "    >>> A = [1,0,0,0,0]\n",
    "    >>> B = [1,0,0,0,0]\n",
    "    >>> print(binary_add(A, B))   \n",
    "    [1, 0, 0, 0, 0, 0]\n",
    "    >>> A = [1,1,0,1,0]\n",
    "    >>> B = [1,0,1,0,1]\n",
    "    >>> print(binary_add(A, B))   \n",
    "    [1, 0, 1, 1, 1, 1]\n",
    "    \"\"\"\n",
    "    C = []\n",
    "    carry = 0\n",
    "    for i in reversed(range(len(A))):\n",
    "        # exclusive or\n",
    "        sum = carry ^ A[i] ^ B[i]\n",
    "        carry = A[i] & B[i]\n",
    "        C.append(sum)\n",
    "    C.append(carry)\n",
    "    C.reverse()\n",
    "    return C\n",
    "\n",
    "\n",
    "if __name__ == \"__main__\":\n",
    "    import doctest\n",
    "    doctest.run_docstring_examples(binary_add, globals())"
   ]
  },
  {
   "cell_type": "markdown",
   "metadata": {},
   "source": [
    "# 2.2 Analyzing Algorithms"
   ]
  },
  {
   "cell_type": "markdown",
   "metadata": {},
   "source": [
    "## Exercises\n",
    "<hr>\n",
    "### 2.2-1  \n",
    "$\\Theta (n^3)$\n",
    "\n",
    "<hr>\n",
    "### 2.2-2\n",
    "### Selection Sort"
   ]
  },
  {
   "cell_type": "code",
   "execution_count": 23,
   "metadata": {
    "collapsed": false
   },
   "outputs": [],
   "source": [
    "def selection_sort(A):\n",
    "    \"\"\"Sort a list A of integers in non-decreasing order.\n",
    "    \n",
    "    >>> A = [5, 2, 4, 6, 1, 3]\n",
    "    >>> B = [31, 41, 59, 26, 41, 58]\n",
    "    >>> C = [1, 0, -1, 2, 4, 0]\n",
    "    >>> D = [1, 1, 1, 1, 1, 1]\n",
    "    >>> E = []\n",
    "    >>> insertion_sort(A) \n",
    "    >>> insertion_sort(B) \n",
    "    >>> insertion_sort(C) \n",
    "    >>> insertion_sort(D) \n",
    "    >>> insertion_sort(E) \n",
    "    >>> print(A)\n",
    "    [1, 2, 3, 4, 5, 6]\n",
    "    >>> print(B)\n",
    "    [26, 31, 41, 41, 58, 59]\n",
    "    >>> print(C)\n",
    "    [-1, 0, 0, 1, 2, 4]\n",
    "    >>> print(D)\n",
    "    [1, 1, 1, 1, 1, 1]\n",
    "    >>> print(E)\n",
    "    []\n",
    "    \"\"\"\n",
    "    smallest = float(\"inf\")\n",
    "    for i in range(len(A) - 1):\n",
    "        for j in range(i + 1, len(A)):\n",
    "            if A[j] < smallest:\n",
    "                smallest = A[j]\n",
    "        A[i], A[j] = smallest, A[i]\n",
    "        \n",
    "        \n",
    "if __name__ == \"__main__\":\n",
    "    import doctest\n",
    "    doctest.run_docstring_examples(selection_sort, globals())"
   ]
  },
  {
   "cell_type": "markdown",
   "metadata": {},
   "source": [
    "**Loop invariant**: \n",
    "**Initialization**: \n",
    "**Maintenance**:\n",
    "**Termination**:\n",
    "\n",
    "<hr>\n",
    "### 2.2-3\n",
    "If the element being searched for is equally likely to be any element in the array, then the probability of it being a particular index $i$ is $\\frac{1}{n}$. We find the expected value of the index: \n",
    "$$\\sum_{i=1}^{n}\\frac{1}{n}i = \\frac{1}{n}\\frac{n(n+1)}{2} = \\frac{n+1}{2}.$$"
   ]
  },
  {
   "cell_type": "code",
   "execution_count": null,
   "metadata": {
    "collapsed": true
   },
   "outputs": [],
   "source": []
  }
 ],
 "metadata": {
  "kernelspec": {
   "display_name": "Python 3",
   "language": "python",
   "name": "python3"
  },
  "language_info": {
   "codemirror_mode": {
    "name": "ipython",
    "version": 3
   },
   "file_extension": ".py",
   "mimetype": "text/x-python",
   "name": "python",
   "nbconvert_exporter": "python",
   "pygments_lexer": "ipython3",
   "version": "3.5.1"
  }
 },
 "nbformat": 4,
 "nbformat_minor": 0
}
