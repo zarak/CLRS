{
 "cells": [
  {
   "cell_type": "markdown",
   "metadata": {},
   "source": [
    "# Example 1: Print the elements of an array with 10 integers\n",
    "\n",
    "### Identifying loop invariants\n",
    "Identify the goal of the loop and write it as a post condition."
   ]
  },
  {
   "cell_type": "markdown",
   "metadata": {
    "collapsed": true
   },
   "source": [
    "```python\n",
    "# Elements A[1] to A[10] have been printed.```"
   ]
  },
  {
   "cell_type": "markdown",
   "metadata": {},
   "source": [
    "Write the loop along with the guard (loop condition)."
   ]
  },
  {
   "cell_type": "markdown",
   "metadata": {
    "collapsed": false
   },
   "source": [
    "```python\n",
    "while (k <= 10):\n",
    "    k += 1\n",
    "    \n",
    "# Elements A[1] to A[10] have been printed.\n",
    "```"
   ]
  },
  {
   "cell_type": "markdown",
   "metadata": {},
   "source": [
    "Fill in the loop invariant."
   ]
  },
  {
   "cell_type": "markdown",
   "metadata": {
    "collapsed": true
   },
   "source": [
    "```python\n",
    "# The first k - 1 elements have been printed\n",
    "while (k <= 10):\n",
    "    k += 1\n",
    "    # The first k - 1 elements have been printed\n",
    "    \n",
    "# Elements A[1] to A[10] have been printed.\n",
    "```"
   ]
  },
  {
   "cell_type": "markdown",
   "metadata": {},
   "source": [
    "Fix the initialization, ensuring that the loop invariant holds."
   ]
  },
  {
   "cell_type": "markdown",
   "metadata": {
    "collapsed": true
   },
   "source": [
    "```python\n",
    "k = 1 # By making this equal to 1, the statement below reads \n",
    "      # \"The first 0 elements have been printed\" which is what we desire.\n",
    "    \n",
    "# The first k - 1 elements have been printed\n",
    "while (k <= 10):\n",
    "    k += 1\n",
    "    # The first k - 1 elements have been printed\n",
    "    \n",
    "# Elements A[1] to A[10] have been printed.\n",
    "```"
   ]
  },
  {
   "cell_type": "markdown",
   "metadata": {},
   "source": [
    "Attempt to accomplish the goal in the body of the loop while keeping the loop invariant true after each iteration."
   ]
  },
  {
   "cell_type": "markdown",
   "metadata": {
    "collapsed": false
   },
   "source": [
    "```python\n",
    "A = range(11) # define A to make this cell runnable\n",
    "              # We exclude index 0 due to 0-indexing in Python\n",
    "\n",
    "k = 1 # By making this equal to 1, the statement below reads \n",
    "      # \"The first 0 elements have been printed\" which is what we desire.\n",
    "    \n",
    "# The first k - 1 elements have been printed\n",
    "while (k <= 10):\n",
    "    print(A[k])\n",
    "    k += 1\n",
    "    # The first k - 1 elements have been printed\n",
    "    \n",
    "# Elements A[1] to A[10] have been printed.\n",
    "```"
   ]
  },
  {
   "cell_type": "markdown",
   "metadata": {},
   "source": [
    "# Example 2: Array Sum"
   ]
  },
  {
   "cell_type": "markdown",
   "metadata": {},
   "source": [
    "Post condition."
   ]
  },
  {
   "cell_type": "markdown",
   "metadata": {
    "collapsed": true
   },
   "source": [
    "```python\n",
    "# The values from A[1] to A[n] inclusive have been added.\n",
    "```"
   ]
  },
  {
   "cell_type": "markdown",
   "metadata": {},
   "source": [
    "Loop guard."
   ]
  },
  {
   "cell_type": "markdown",
   "metadata": {
    "collapsed": true
   },
   "source": [
    "```python\n",
    "while (k <= len(A)):\n",
    "    k += 1\n",
    "\n",
    "# The values from A[1] to A[n] inclusive have been added.\n",
    "```"
   ]
  },
  {
   "cell_type": "markdown",
   "metadata": {},
   "source": [
    "Fill in the loop invariant."
   ]
  },
  {
   "cell_type": "markdown",
   "metadata": {
    "collapsed": true
   },
   "source": [
    "```python\n",
    "# The values from A[1] to A[k-1] have been added.\n",
    "while (k <= len(A)):\n",
    "    k += 1\n",
    "    # The values from A[1] to A[k-1] have been added.\n",
    "    \n",
    "# The values from A[1] to A[n] inclusive have been added.\n",
    "```"
   ]
  },
  {
   "cell_type": "markdown",
   "metadata": {},
   "source": [
    "Fix initial condition."
   ]
  },
  {
   "cell_type": "markdown",
   "metadata": {
    "collapsed": true
   },
   "source": [
    "```python\n",
    "# The values from A[1] to A[k-1] have been added.\n",
    "k = 1 # If k=1, then the values from A[1] to A[0] have been added, which is trivially true.\n",
    "while (k <= len(A)):\n",
    "    k += 1\n",
    "    # The values from A[1] to A[k-1] have been added.\n",
    "    \n",
    "# The values from A[1] to A[n] inclusive have been added.\n",
    "```"
   ]
  },
  {
   "cell_type": "markdown",
   "metadata": {},
   "source": [
    "Fill in the loop body to ensure invariant holds."
   ]
  },
  {
   "cell_type": "markdown",
   "metadata": {
    "collapsed": false
   },
   "source": [
    "```python\n",
    "A = [0,1,2,3]\n",
    "# The values from A[1] to A[k-1] have been added.\n",
    "k = 1 # If k=1, then the values from A[1] to A[0] have been added, which is trivially true.\n",
    "sum = 0\n",
    "while (k < len(A)):\n",
    "    sum += A[k]\n",
    "    k += 1\n",
    "    # The values from A[1] to A[k-1] have been added.\n",
    "    \n",
    "# The values from A[1] to A[n] inclusive have been added.\n",
    "print(sum)\n",
    "```"
   ]
  },
  {
   "cell_type": "markdown",
   "metadata": {
    "collapsed": true
   },
   "source": [
    "# Example 3: Power Function"
   ]
  },
  {
   "cell_type": "code",
   "execution_count": null,
   "metadata": {
    "collapsed": true
   },
   "outputs": [],
   "source": []
  }
 ],
 "metadata": {
  "kernelspec": {
   "display_name": "Python 3",
   "language": "python",
   "name": "python3"
  },
  "language_info": {
   "codemirror_mode": {
    "name": "ipython",
    "version": 3
   },
   "file_extension": ".py",
   "mimetype": "text/x-python",
   "name": "python",
   "nbconvert_exporter": "python",
   "pygments_lexer": "ipython3",
   "version": "3.5.1"
  }
 },
 "nbformat": 4,
 "nbformat_minor": 0
}
